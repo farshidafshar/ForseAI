{
 "cells": [
  {
   "cell_type": "code",
   "execution_count": 2,
   "metadata": {},
   "outputs": [
    {
     "name": "stderr",
     "output_type": "stream",
     "text": [
      "c:\\Users\\farshid.afshar\\AppData\\Local\\anaconda3\\envs\\pl_env\\lib\\site-packages\\tqdm\\auto.py:21: TqdmWarning:\n",
      "\n",
      "IProgress not found. Please update jupyter and ipywidgets. See https://ipywidgets.readthedocs.io/en/stable/user_install.html\n",
      "\n"
     ]
    }
   ],
   "source": [
    "import polars as pl\n",
    "import dtale\n",
    "import polars.selectors as cs\n",
    "import plotly.express as px\n",
    "import sweetviz\n",
    "import sklearn\n",
    "import xgboost"
   ]
  },
  {
   "cell_type": "code",
   "execution_count": 3,
   "metadata": {},
   "outputs": [],
   "source": [
    "df_raw=pl.read_csv(r'C:\\Users\\farshid.afshar\\Jet\\Personal\\ForceAI/insurance_data_sample.csv')\\\n",
    "    .with_columns(Date=pl.col('Date').str.to_datetime(\"%m/%d/%Y\").dt.date(),\n",
    "                  Female_dummy=pl.when(pl.col('Gender')=='Female').then(1).otherwise(0))"
   ]
  },
  {
   "cell_type": "markdown",
   "metadata": {},
   "source": [
    "### handle numerci varbs"
   ]
  },
  {
   "cell_type": "code",
   "execution_count": 17,
   "metadata": {},
   "outputs": [],
   "source": [
    "## according to eda report phone number is redundent\n",
    "''' \n",
    "the above mentioned variable according to eda are less effective in claim decision\n",
    "'''\n",
    "df_numeric=df_raw.select(cs.integer(),cs.float()).drop('Phone')\\\n",
    "                .with_columns(cliam_indicator=pl.when(pl.col('Claim amount')>0).then(1).otherwise(0))"
   ]
  },
  {
   "cell_type": "markdown",
   "metadata": {},
   "source": [
    "### handle non numeric vaerbs"
   ]
  },
  {
   "cell_type": "code",
   "execution_count": 20,
   "metadata": {},
   "outputs": [],
   "source": [
    "## for those who have many cats just select top two with most claims\n",
    "## lets discard Car_id and customer name, gender, dealer name, Dealer_No\n",
    "\n",
    "\n",
    "non_numeric_elim=['Car_id','Customer Name','Gender','Dealer_Name','Model','Engine','Dealer_No']\n",
    "\n",
    "''' \n",
    "the above mentioned variable according to eda are less effective in claim decision\n",
    "'''\n",
    "df_non_numeric=df_raw.with_columns(cliam_indicator=pl.when(pl.col('Claim amount')>0).then(1).otherwise(0))\\\n",
    "                .select([t for t in df_raw.columns if t not in df_numeric.columns+['Date']]).drop(non_numeric_elim)\n",
    "                "
   ]
  },
  {
   "cell_type": "code",
   "execution_count": 21,
   "metadata": {},
   "outputs": [
    {
     "data": {
      "text/html": [
       "<div><style>\n",
       ".dataframe > thead > tr,\n",
       ".dataframe > tbody > tr {\n",
       "  text-align: right;\n",
       "  white-space: pre-wrap;\n",
       "}\n",
       "</style>\n",
       "<small>shape: (23_906, 7)</small><table border=\"1\" class=\"dataframe\"><thead><tr><th>Company</th><th>Transmission</th><th>Color</th><th>Dealer_No </th><th>Body Style</th><th>Phone</th><th>City</th></tr><tr><td>str</td><td>str</td><td>str</td><td>str</td><td>str</td><td>i64</td><td>str</td></tr></thead><tbody><tr><td>&quot;Ford&quot;</td><td>&quot;Auto&quot;</td><td>&quot;Black&quot;</td><td>&quot;06457-3834&quot;</td><td>&quot;SUV&quot;</td><td>8264678</td><td>&quot;Riga&quot;</td></tr><tr><td>&quot;Dodge&quot;</td><td>&quot;Auto&quot;</td><td>&quot;Black&quot;</td><td>&quot;60504-7114&quot;</td><td>&quot;SUV&quot;</td><td>6848189</td><td>&quot;Liepaja&quot;</td></tr><tr><td>&quot;Cadillac&quot;</td><td>&quot;Manual&quot;</td><td>&quot;Red&quot;</td><td>&quot;38701-8047&quot;</td><td>&quot;Passenger&quot;</td><td>7298798</td><td>&quot;Riga&quot;</td></tr><tr><td>&quot;Toyota&quot;</td><td>&quot;Manual&quot;</td><td>&quot;Pale White&quot;</td><td>&quot;99301-3882&quot;</td><td>&quot;SUV&quot;</td><td>6257557</td><td>&quot;Jelgava&quot;</td></tr><tr><td>&quot;Acura&quot;</td><td>&quot;Auto&quot;</td><td>&quot;Red&quot;</td><td>&quot;53546-9427&quot;</td><td>&quot;Hatchback&quot;</td><td>7081483</td><td>&quot;Liepaja&quot;</td></tr><tr><td>&quot;Mitsubishi&quot;</td><td>&quot;Manual&quot;</td><td>&quot;Pale White&quot;</td><td>&quot;85257-3102&quot;</td><td>&quot;Hatchback&quot;</td><td>7315216</td><td>&quot;Riga&quot;</td></tr><tr><td>&quot;Toyota&quot;</td><td>&quot;Manual&quot;</td><td>&quot;Pale White&quot;</td><td>&quot;78758-7841&quot;</td><td>&quot;Passenger&quot;</td><td>7727879</td><td>&quot;Riga&quot;</td></tr><tr><td>&quot;Mitsubishi&quot;</td><td>&quot;Auto&quot;</td><td>&quot;Pale White&quot;</td><td>&quot;78758-7841&quot;</td><td>&quot;Passenger&quot;</td><td>6206512</td><td>&quot;Jelgava&quot;</td></tr><tr><td>&quot;Chevrolet&quot;</td><td>&quot;Manual&quot;</td><td>&quot;Pale White&quot;</td><td>&quot;85257-3102&quot;</td><td>&quot;Hardtop&quot;</td><td>7194857</td><td>&quot;Ventspils&quot;</td></tr><tr><td>&quot;Ford&quot;</td><td>&quot;Auto&quot;</td><td>&quot;Pale White&quot;</td><td>&quot;85257-3102&quot;</td><td>&quot;Passenger&quot;</td><td>7836892</td><td>&quot;Ventspils&quot;</td></tr><tr><td>&quot;Acura&quot;</td><td>&quot;Manual&quot;</td><td>&quot;Pale White&quot;</td><td>&quot;78758-7841&quot;</td><td>&quot;SUV&quot;</td><td>7995489</td><td>&quot;Liepaja&quot;</td></tr><tr><td>&quot;Nissan&quot;</td><td>&quot;Auto&quot;</td><td>&quot;Pale White&quot;</td><td>&quot;78758-7841&quot;</td><td>&quot;Hardtop&quot;</td><td>7288103</td><td>&quot;Liepaja&quot;</td></tr><tr><td>&hellip;</td><td>&hellip;</td><td>&hellip;</td><td>&hellip;</td><td>&hellip;</td><td>&hellip;</td><td>&hellip;</td></tr><tr><td>&quot;Mitsubishi&quot;</td><td>&quot;Auto&quot;</td><td>&quot;Red&quot;</td><td>&quot;99301-3882&quot;</td><td>&quot;Hardtop&quot;</td><td>8331483</td><td>&quot;Jelgava&quot;</td></tr><tr><td>&quot;Mercury&quot;</td><td>&quot;Manual&quot;</td><td>&quot;Red&quot;</td><td>&quot;53546-9427&quot;</td><td>&quot;Sedan&quot;</td><td>8439821</td><td>&quot;Daugavpils&quot;</td></tr><tr><td>&quot;Dodge&quot;</td><td>&quot;Auto&quot;</td><td>&quot;Red&quot;</td><td>&quot;85257-3102&quot;</td><td>&quot;SUV&quot;</td><td>8744249</td><td>&quot;Daugavpils&quot;</td></tr><tr><td>&quot;Mercedes-B&quot;</td><td>&quot;Auto&quot;</td><td>&quot;Red&quot;</td><td>&quot;53546-9427&quot;</td><td>&quot;Sedan&quot;</td><td>6819422</td><td>&quot;Ventspils&quot;</td></tr><tr><td>&quot;Volvo&quot;</td><td>&quot;Manual&quot;</td><td>&quot;Pale White&quot;</td><td>&quot;85257-3102&quot;</td><td>&quot;Hatchback&quot;</td><td>6225183</td><td>&quot;Liepaja&quot;</td></tr><tr><td>&quot;Buick&quot;</td><td>&quot;Auto&quot;</td><td>&quot;Pale White&quot;</td><td>&quot;78758-7841&quot;</td><td>&quot;Hatchback&quot;</td><td>8384785</td><td>&quot;Ventspils&quot;</td></tr><tr><td>&quot;Ford&quot;</td><td>&quot;Auto&quot;</td><td>&quot;Red&quot;</td><td>&quot;06457-3834&quot;</td><td>&quot;Sedan&quot;</td><td>8170003</td><td>&quot;Jelgava&quot;</td></tr><tr><td>&quot;Plymouth&quot;</td><td>&quot;Manual&quot;</td><td>&quot;Red&quot;</td><td>&quot;60504-7114&quot;</td><td>&quot;Passenger&quot;</td><td>8583598</td><td>&quot;Tukums&quot;</td></tr><tr><td>&quot;Chevrolet&quot;</td><td>&quot;Auto&quot;</td><td>&quot;Black&quot;</td><td>&quot;06457-3834&quot;</td><td>&quot;Hardtop&quot;</td><td>7914229</td><td>&quot;Liepaja&quot;</td></tr><tr><td>&quot;BMW&quot;</td><td>&quot;Manual&quot;</td><td>&quot;Red&quot;</td><td>&quot;99301-3882&quot;</td><td>&quot;Sedan&quot;</td><td>7659127</td><td>&quot;Liepaja&quot;</td></tr><tr><td>&quot;Chevrolet&quot;</td><td>&quot;Auto&quot;</td><td>&quot;Black&quot;</td><td>&quot;53546-9427&quot;</td><td>&quot;Passenger&quot;</td><td>6030764</td><td>&quot;Tukums&quot;</td></tr><tr><td>&quot;Lexus&quot;</td><td>&quot;Auto&quot;</td><td>&quot;Pale White&quot;</td><td>&quot;38701-8047&quot;</td><td>&quot;Hardtop&quot;</td><td>7020564</td><td>&quot;Tukums&quot;</td></tr></tbody></table></div>"
      ],
      "text/plain": [
       "shape: (23_906, 7)\n",
       "┌───────────┬──────────────┬────────────┬────────────┬────────────┬─────────┬─────────┐\n",
       "│ Company   ┆ Transmission ┆ Color      ┆ Dealer_No  ┆ Body Style ┆ Phone   ┆ City    │\n",
       "│ ---       ┆ ---          ┆ ---        ┆ ---        ┆ ---        ┆ ---     ┆ ---     │\n",
       "│ str       ┆ str          ┆ str        ┆ str        ┆ str        ┆ i64     ┆ str     │\n",
       "╞═══════════╪══════════════╪════════════╪════════════╪════════════╪═════════╪═════════╡\n",
       "│ Ford      ┆ Auto         ┆ Black      ┆ 06457-3834 ┆ SUV        ┆ 8264678 ┆ Riga    │\n",
       "│ Dodge     ┆ Auto         ┆ Black      ┆ 60504-7114 ┆ SUV        ┆ 6848189 ┆ Liepaja │\n",
       "│ Cadillac  ┆ Manual       ┆ Red        ┆ 38701-8047 ┆ Passenger  ┆ 7298798 ┆ Riga    │\n",
       "│ Toyota    ┆ Manual       ┆ Pale White ┆ 99301-3882 ┆ SUV        ┆ 6257557 ┆ Jelgava │\n",
       "│ Acura     ┆ Auto         ┆ Red        ┆ 53546-9427 ┆ Hatchback  ┆ 7081483 ┆ Liepaja │\n",
       "│ …         ┆ …            ┆ …          ┆ …          ┆ …          ┆ …       ┆ …       │\n",
       "│ Plymouth  ┆ Manual       ┆ Red        ┆ 60504-7114 ┆ Passenger  ┆ 8583598 ┆ Tukums  │\n",
       "│ Chevrolet ┆ Auto         ┆ Black      ┆ 06457-3834 ┆ Hardtop    ┆ 7914229 ┆ Liepaja │\n",
       "│ BMW       ┆ Manual       ┆ Red        ┆ 99301-3882 ┆ Sedan      ┆ 7659127 ┆ Liepaja │\n",
       "│ Chevrolet ┆ Auto         ┆ Black      ┆ 53546-9427 ┆ Passenger  ┆ 6030764 ┆ Tukums  │\n",
       "│ Lexus     ┆ Auto         ┆ Pale White ┆ 38701-8047 ┆ Hardtop    ┆ 7020564 ┆ Tukums  │\n",
       "└───────────┴──────────────┴────────────┴────────────┴────────────┴─────────┴─────────┘"
      ]
     },
     "execution_count": 21,
     "metadata": {},
     "output_type": "execute_result"
    }
   ],
   "source": [
    "df_non_numeric"
   ]
  }
 ],
 "metadata": {
  "kernelspec": {
   "display_name": "Python 3",
   "language": "python",
   "name": "python3"
  },
  "language_info": {
   "codemirror_mode": {
    "name": "ipython",
    "version": 3
   },
   "file_extension": ".py",
   "mimetype": "text/x-python",
   "name": "python",
   "nbconvert_exporter": "python",
   "pygments_lexer": "ipython3",
   "version": "3.9.18"
  }
 },
 "nbformat": 4,
 "nbformat_minor": 2
}
